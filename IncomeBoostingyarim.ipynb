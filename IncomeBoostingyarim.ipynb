{
  "nbformat": 4,
  "nbformat_minor": 0,
  "metadata": {
    "colab": {
      "provenance": [],
      "authorship_tag": "ABX9TyM4IM6HTmHev4S2VEPn+rlL",
      "include_colab_link": true
    },
    "kernelspec": {
      "name": "python3",
      "display_name": "Python 3"
    },
    "language_info": {
      "name": "python"
    }
  },
  "cells": [
    {
      "cell_type": "markdown",
      "metadata": {
        "id": "view-in-github",
        "colab_type": "text"
      },
      "source": [
        "<a href=\"https://colab.research.google.com/github/ahmeterdem/FLOWERFLOPEN/blob/main/IncomeBoostingyarim.ipynb\" target=\"_parent\"><img src=\"https://colab.research.google.com/assets/colab-badge.svg\" alt=\"Open In Colab\"/></a>"
      ]
    },
    {
      "cell_type": "code",
      "execution_count": null,
      "metadata": {
        "id": "hYsBUgjJWol7"
      },
      "outputs": [],
      "source": []
    },
    {
      "cell_type": "markdown",
      "source": [
        "https://github.com/gabrielsig/mental-health-survey/tree/master\n",
        "https://archive.ics.uci.edu/dataset/2/adult\n",
        "https://towardsdatascience.com/ensemble-learning-and-model-interpretability-a-case-study-95141d75a96c\n",
        "https://towardsdatascience.com/running-xgboost-on-google-colab-free-gpu-a-case-study-841c90fef101\n"
      ],
      "metadata": {
        "id": "hg6Jz_rIWrGA"
      }
    },
    {
      "cell_type": "markdown",
      "source": [
        "İmport data"
      ],
      "metadata": {
        "id": "8jYR9zrvW5Bc"
      }
    },
    {
      "cell_type": "code",
      "source": [
        "pip install ucimlrepo"
      ],
      "metadata": {
        "colab": {
          "base_uri": "https://localhost:8080/"
        },
        "id": "qdIfmlDeW6WF",
        "outputId": "c2d45fc8-f536-40a8-8471-9d0b9ae47dc1"
      },
      "execution_count": 1,
      "outputs": [
        {
          "output_type": "stream",
          "name": "stdout",
          "text": [
            "Collecting ucimlrepo\n",
            "  Downloading ucimlrepo-0.0.7-py3-none-any.whl (8.0 kB)\n",
            "Requirement already satisfied: pandas>=1.0.0 in /usr/local/lib/python3.10/dist-packages (from ucimlrepo) (2.0.3)\n",
            "Requirement already satisfied: certifi>=2020.12.5 in /usr/local/lib/python3.10/dist-packages (from ucimlrepo) (2024.6.2)\n",
            "Requirement already satisfied: python-dateutil>=2.8.2 in /usr/local/lib/python3.10/dist-packages (from pandas>=1.0.0->ucimlrepo) (2.8.2)\n",
            "Requirement already satisfied: pytz>=2020.1 in /usr/local/lib/python3.10/dist-packages (from pandas>=1.0.0->ucimlrepo) (2023.4)\n",
            "Requirement already satisfied: tzdata>=2022.1 in /usr/local/lib/python3.10/dist-packages (from pandas>=1.0.0->ucimlrepo) (2024.1)\n",
            "Requirement already satisfied: numpy>=1.21.0 in /usr/local/lib/python3.10/dist-packages (from pandas>=1.0.0->ucimlrepo) (1.25.2)\n",
            "Requirement already satisfied: six>=1.5 in /usr/local/lib/python3.10/dist-packages (from python-dateutil>=2.8.2->pandas>=1.0.0->ucimlrepo) (1.16.0)\n",
            "Installing collected packages: ucimlrepo\n",
            "Successfully installed ucimlrepo-0.0.7\n"
          ]
        }
      ]
    },
    {
      "cell_type": "code",
      "source": [
        "from ucimlrepo import fetch_ucirepo\n",
        "\n",
        "# fetch dataset\n",
        "adult = fetch_ucirepo(id=2)\n",
        "\n",
        "# data (as pandas dataframes)\n",
        "X = adult.data.features\n",
        "y = adult.data.targets\n",
        "\n",
        "# metadata\n",
        "print(adult.metadata)\n",
        "\n",
        "# variable information\n",
        "print(adult.variables)\n"
      ],
      "metadata": {
        "colab": {
          "base_uri": "https://localhost:8080/"
        },
        "id": "N_oPl0s1W-ZH",
        "outputId": "9f42abb7-3202-4c15-896b-bc95050415b1"
      },
      "execution_count": 2,
      "outputs": [
        {
          "output_type": "stream",
          "name": "stdout",
          "text": [
            "{'uci_id': 2, 'name': 'Adult', 'repository_url': 'https://archive.ics.uci.edu/dataset/2/adult', 'data_url': 'https://archive.ics.uci.edu/static/public/2/data.csv', 'abstract': 'Predict whether income exceeds $50K/yr based on census data. Also known as \"Census Income\" dataset. ', 'area': 'Social Science', 'tasks': ['Classification'], 'characteristics': ['Multivariate'], 'num_instances': 48842, 'num_features': 14, 'feature_types': ['Categorical', 'Integer'], 'demographics': ['Age', 'Income', 'Education Level', 'Other', 'Race', 'Sex'], 'target_col': ['income'], 'index_col': None, 'has_missing_values': 'yes', 'missing_values_symbol': 'NaN', 'year_of_dataset_creation': 1996, 'last_updated': 'Mon Aug 07 2023', 'dataset_doi': '10.24432/C5XW20', 'creators': ['Barry Becker', 'Ronny Kohavi'], 'intro_paper': None, 'additional_info': {'summary': 'Extraction was done by Barry Becker from the 1994 Census database.  A set of reasonably clean records was extracted using the following conditions: ((AAGE>16) && (AGI>100) && (AFNLWGT>1)&& (HRSWK>0))\\r\\n\\r\\nPrediction task is to determine whether a person makes over 50K a year.\\r\\n', 'purpose': None, 'funded_by': None, 'instances_represent': None, 'recommended_data_splits': None, 'sensitive_data': None, 'preprocessing_description': None, 'variable_info': 'Listing of attributes:\\r\\n\\r\\n>50K, <=50K.\\r\\n\\r\\nage: continuous.\\r\\nworkclass: Private, Self-emp-not-inc, Self-emp-inc, Federal-gov, Local-gov, State-gov, Without-pay, Never-worked.\\r\\nfnlwgt: continuous.\\r\\neducation: Bachelors, Some-college, 11th, HS-grad, Prof-school, Assoc-acdm, Assoc-voc, 9th, 7th-8th, 12th, Masters, 1st-4th, 10th, Doctorate, 5th-6th, Preschool.\\r\\neducation-num: continuous.\\r\\nmarital-status: Married-civ-spouse, Divorced, Never-married, Separated, Widowed, Married-spouse-absent, Married-AF-spouse.\\r\\noccupation: Tech-support, Craft-repair, Other-service, Sales, Exec-managerial, Prof-specialty, Handlers-cleaners, Machine-op-inspct, Adm-clerical, Farming-fishing, Transport-moving, Priv-house-serv, Protective-serv, Armed-Forces.\\r\\nrelationship: Wife, Own-child, Husband, Not-in-family, Other-relative, Unmarried.\\r\\nrace: White, Asian-Pac-Islander, Amer-Indian-Eskimo, Other, Black.\\r\\nsex: Female, Male.\\r\\ncapital-gain: continuous.\\r\\ncapital-loss: continuous.\\r\\nhours-per-week: continuous.\\r\\nnative-country: United-States, Cambodia, England, Puerto-Rico, Canada, Germany, Outlying-US(Guam-USVI-etc), India, Japan, Greece, South, China, Cuba, Iran, Honduras, Philippines, Italy, Poland, Jamaica, Vietnam, Mexico, Portugal, Ireland, France, Dominican-Republic, Laos, Ecuador, Taiwan, Haiti, Columbia, Hungary, Guatemala, Nicaragua, Scotland, Thailand, Yugoslavia, El-Salvador, Trinadad&Tobago, Peru, Hong, Holand-Netherlands.', 'citation': None}}\n",
            "              name     role         type      demographic  \\\n",
            "0              age  Feature      Integer              Age   \n",
            "1        workclass  Feature  Categorical           Income   \n",
            "2           fnlwgt  Feature      Integer             None   \n",
            "3        education  Feature  Categorical  Education Level   \n",
            "4    education-num  Feature      Integer  Education Level   \n",
            "5   marital-status  Feature  Categorical            Other   \n",
            "6       occupation  Feature  Categorical            Other   \n",
            "7     relationship  Feature  Categorical            Other   \n",
            "8             race  Feature  Categorical             Race   \n",
            "9              sex  Feature       Binary              Sex   \n",
            "10    capital-gain  Feature      Integer             None   \n",
            "11    capital-loss  Feature      Integer             None   \n",
            "12  hours-per-week  Feature      Integer             None   \n",
            "13  native-country  Feature  Categorical            Other   \n",
            "14          income   Target       Binary           Income   \n",
            "\n",
            "                                          description units missing_values  \n",
            "0                                                 N/A  None             no  \n",
            "1   Private, Self-emp-not-inc, Self-emp-inc, Feder...  None            yes  \n",
            "2                                                None  None             no  \n",
            "3    Bachelors, Some-college, 11th, HS-grad, Prof-...  None             no  \n",
            "4                                                None  None             no  \n",
            "5   Married-civ-spouse, Divorced, Never-married, S...  None             no  \n",
            "6   Tech-support, Craft-repair, Other-service, Sal...  None            yes  \n",
            "7   Wife, Own-child, Husband, Not-in-family, Other...  None             no  \n",
            "8   White, Asian-Pac-Islander, Amer-Indian-Eskimo,...  None             no  \n",
            "9                                       Female, Male.  None             no  \n",
            "10                                               None  None             no  \n",
            "11                                               None  None             no  \n",
            "12                                               None  None             no  \n",
            "13  United-States, Cambodia, England, Puerto-Rico,...  None            yes  \n",
            "14                                       >50K, <=50K.  None             no  \n"
          ]
        }
      ]
    },
    {
      "cell_type": "code",
      "source": [
        "adult"
      ],
      "metadata": {
        "colab": {
          "base_uri": "https://localhost:8080/"
        },
        "id": "Y0PKkTjBXewG",
        "outputId": "34d9f3c5-c1f2-412c-e736-2f60c7f392bd"
      },
      "execution_count": 3,
      "outputs": [
        {
          "output_type": "execute_result",
          "data": {
            "text/plain": [
              "{'data': {'ids': None,\n",
              "  'features':        age         workclass  fnlwgt  education  education-num  \\\n",
              "  0       39         State-gov   77516  Bachelors             13   \n",
              "  1       50  Self-emp-not-inc   83311  Bachelors             13   \n",
              "  2       38           Private  215646    HS-grad              9   \n",
              "  3       53           Private  234721       11th              7   \n",
              "  4       28           Private  338409  Bachelors             13   \n",
              "  ...    ...               ...     ...        ...            ...   \n",
              "  48837   39           Private  215419  Bachelors             13   \n",
              "  48838   64               NaN  321403    HS-grad              9   \n",
              "  48839   38           Private  374983  Bachelors             13   \n",
              "  48840   44           Private   83891  Bachelors             13   \n",
              "  48841   35      Self-emp-inc  182148  Bachelors             13   \n",
              "  \n",
              "             marital-status         occupation    relationship  \\\n",
              "  0           Never-married       Adm-clerical   Not-in-family   \n",
              "  1      Married-civ-spouse    Exec-managerial         Husband   \n",
              "  2                Divorced  Handlers-cleaners   Not-in-family   \n",
              "  3      Married-civ-spouse  Handlers-cleaners         Husband   \n",
              "  4      Married-civ-spouse     Prof-specialty            Wife   \n",
              "  ...                   ...                ...             ...   \n",
              "  48837            Divorced     Prof-specialty   Not-in-family   \n",
              "  48838             Widowed                NaN  Other-relative   \n",
              "  48839  Married-civ-spouse     Prof-specialty         Husband   \n",
              "  48840            Divorced       Adm-clerical       Own-child   \n",
              "  48841  Married-civ-spouse    Exec-managerial         Husband   \n",
              "  \n",
              "                       race     sex  capital-gain  capital-loss  hours-per-week  \\\n",
              "  0                   White    Male          2174             0              40   \n",
              "  1                   White    Male             0             0              13   \n",
              "  2                   White    Male             0             0              40   \n",
              "  3                   Black    Male             0             0              40   \n",
              "  4                   Black  Female             0             0              40   \n",
              "  ...                   ...     ...           ...           ...             ...   \n",
              "  48837               White  Female             0             0              36   \n",
              "  48838               Black    Male             0             0              40   \n",
              "  48839               White    Male             0             0              50   \n",
              "  48840  Asian-Pac-Islander    Male          5455             0              40   \n",
              "  48841               White    Male             0             0              60   \n",
              "  \n",
              "        native-country  \n",
              "  0      United-States  \n",
              "  1      United-States  \n",
              "  2      United-States  \n",
              "  3      United-States  \n",
              "  4               Cuba  \n",
              "  ...              ...  \n",
              "  48837  United-States  \n",
              "  48838  United-States  \n",
              "  48839  United-States  \n",
              "  48840  United-States  \n",
              "  48841  United-States  \n",
              "  \n",
              "  [48842 rows x 14 columns],\n",
              "  'targets':        income\n",
              "  0       <=50K\n",
              "  1       <=50K\n",
              "  2       <=50K\n",
              "  3       <=50K\n",
              "  4       <=50K\n",
              "  ...       ...\n",
              "  48837  <=50K.\n",
              "  48838  <=50K.\n",
              "  48839  <=50K.\n",
              "  48840  <=50K.\n",
              "  48841   >50K.\n",
              "  \n",
              "  [48842 rows x 1 columns],\n",
              "  'original':        age         workclass  fnlwgt  education  education-num  \\\n",
              "  0       39         State-gov   77516  Bachelors             13   \n",
              "  1       50  Self-emp-not-inc   83311  Bachelors             13   \n",
              "  2       38           Private  215646    HS-grad              9   \n",
              "  3       53           Private  234721       11th              7   \n",
              "  4       28           Private  338409  Bachelors             13   \n",
              "  ...    ...               ...     ...        ...            ...   \n",
              "  48837   39           Private  215419  Bachelors             13   \n",
              "  48838   64               NaN  321403    HS-grad              9   \n",
              "  48839   38           Private  374983  Bachelors             13   \n",
              "  48840   44           Private   83891  Bachelors             13   \n",
              "  48841   35      Self-emp-inc  182148  Bachelors             13   \n",
              "  \n",
              "             marital-status         occupation    relationship  \\\n",
              "  0           Never-married       Adm-clerical   Not-in-family   \n",
              "  1      Married-civ-spouse    Exec-managerial         Husband   \n",
              "  2                Divorced  Handlers-cleaners   Not-in-family   \n",
              "  3      Married-civ-spouse  Handlers-cleaners         Husband   \n",
              "  4      Married-civ-spouse     Prof-specialty            Wife   \n",
              "  ...                   ...                ...             ...   \n",
              "  48837            Divorced     Prof-specialty   Not-in-family   \n",
              "  48838             Widowed                NaN  Other-relative   \n",
              "  48839  Married-civ-spouse     Prof-specialty         Husband   \n",
              "  48840            Divorced       Adm-clerical       Own-child   \n",
              "  48841  Married-civ-spouse    Exec-managerial         Husband   \n",
              "  \n",
              "                       race     sex  capital-gain  capital-loss  hours-per-week  \\\n",
              "  0                   White    Male          2174             0              40   \n",
              "  1                   White    Male             0             0              13   \n",
              "  2                   White    Male             0             0              40   \n",
              "  3                   Black    Male             0             0              40   \n",
              "  4                   Black  Female             0             0              40   \n",
              "  ...                   ...     ...           ...           ...             ...   \n",
              "  48837               White  Female             0             0              36   \n",
              "  48838               Black    Male             0             0              40   \n",
              "  48839               White    Male             0             0              50   \n",
              "  48840  Asian-Pac-Islander    Male          5455             0              40   \n",
              "  48841               White    Male             0             0              60   \n",
              "  \n",
              "        native-country  income  \n",
              "  0      United-States   <=50K  \n",
              "  1      United-States   <=50K  \n",
              "  2      United-States   <=50K  \n",
              "  3      United-States   <=50K  \n",
              "  4               Cuba   <=50K  \n",
              "  ...              ...     ...  \n",
              "  48837  United-States  <=50K.  \n",
              "  48838  United-States  <=50K.  \n",
              "  48839  United-States  <=50K.  \n",
              "  48840  United-States  <=50K.  \n",
              "  48841  United-States   >50K.  \n",
              "  \n",
              "  [48842 rows x 15 columns],\n",
              "  'headers': Index(['age', 'workclass', 'fnlwgt', 'education', 'education-num',\n",
              "         'marital-status', 'occupation', 'relationship', 'race', 'sex',\n",
              "         'capital-gain', 'capital-loss', 'hours-per-week', 'native-country',\n",
              "         'income'],\n",
              "        dtype='object')},\n",
              " 'metadata': {'uci_id': 2,\n",
              "  'name': 'Adult',\n",
              "  'repository_url': 'https://archive.ics.uci.edu/dataset/2/adult',\n",
              "  'data_url': 'https://archive.ics.uci.edu/static/public/2/data.csv',\n",
              "  'abstract': 'Predict whether income exceeds $50K/yr based on census data. Also known as \"Census Income\" dataset. ',\n",
              "  'area': 'Social Science',\n",
              "  'tasks': ['Classification'],\n",
              "  'characteristics': ['Multivariate'],\n",
              "  'num_instances': 48842,\n",
              "  'num_features': 14,\n",
              "  'feature_types': ['Categorical', 'Integer'],\n",
              "  'demographics': ['Age', 'Income', 'Education Level', 'Other', 'Race', 'Sex'],\n",
              "  'target_col': ['income'],\n",
              "  'index_col': None,\n",
              "  'has_missing_values': 'yes',\n",
              "  'missing_values_symbol': 'NaN',\n",
              "  'year_of_dataset_creation': 1996,\n",
              "  'last_updated': 'Mon Aug 07 2023',\n",
              "  'dataset_doi': '10.24432/C5XW20',\n",
              "  'creators': ['Barry Becker', 'Ronny Kohavi'],\n",
              "  'intro_paper': None,\n",
              "  'additional_info': {'summary': 'Extraction was done by Barry Becker from the 1994 Census database.  A set of reasonably clean records was extracted using the following conditions: ((AAGE>16) && (AGI>100) && (AFNLWGT>1)&& (HRSWK>0))\\r\\n\\r\\nPrediction task is to determine whether a person makes over 50K a year.\\r\\n',\n",
              "   'purpose': None,\n",
              "   'funded_by': None,\n",
              "   'instances_represent': None,\n",
              "   'recommended_data_splits': None,\n",
              "   'sensitive_data': None,\n",
              "   'preprocessing_description': None,\n",
              "   'variable_info': 'Listing of attributes:\\r\\n\\r\\n>50K, <=50K.\\r\\n\\r\\nage: continuous.\\r\\nworkclass: Private, Self-emp-not-inc, Self-emp-inc, Federal-gov, Local-gov, State-gov, Without-pay, Never-worked.\\r\\nfnlwgt: continuous.\\r\\neducation: Bachelors, Some-college, 11th, HS-grad, Prof-school, Assoc-acdm, Assoc-voc, 9th, 7th-8th, 12th, Masters, 1st-4th, 10th, Doctorate, 5th-6th, Preschool.\\r\\neducation-num: continuous.\\r\\nmarital-status: Married-civ-spouse, Divorced, Never-married, Separated, Widowed, Married-spouse-absent, Married-AF-spouse.\\r\\noccupation: Tech-support, Craft-repair, Other-service, Sales, Exec-managerial, Prof-specialty, Handlers-cleaners, Machine-op-inspct, Adm-clerical, Farming-fishing, Transport-moving, Priv-house-serv, Protective-serv, Armed-Forces.\\r\\nrelationship: Wife, Own-child, Husband, Not-in-family, Other-relative, Unmarried.\\r\\nrace: White, Asian-Pac-Islander, Amer-Indian-Eskimo, Other, Black.\\r\\nsex: Female, Male.\\r\\ncapital-gain: continuous.\\r\\ncapital-loss: continuous.\\r\\nhours-per-week: continuous.\\r\\nnative-country: United-States, Cambodia, England, Puerto-Rico, Canada, Germany, Outlying-US(Guam-USVI-etc), India, Japan, Greece, South, China, Cuba, Iran, Honduras, Philippines, Italy, Poland, Jamaica, Vietnam, Mexico, Portugal, Ireland, France, Dominican-Republic, Laos, Ecuador, Taiwan, Haiti, Columbia, Hungary, Guatemala, Nicaragua, Scotland, Thailand, Yugoslavia, El-Salvador, Trinadad&Tobago, Peru, Hong, Holand-Netherlands.',\n",
              "   'citation': None}},\n",
              " 'variables':               name     role         type      demographic  \\\n",
              " 0              age  Feature      Integer              Age   \n",
              " 1        workclass  Feature  Categorical           Income   \n",
              " 2           fnlwgt  Feature      Integer             None   \n",
              " 3        education  Feature  Categorical  Education Level   \n",
              " 4    education-num  Feature      Integer  Education Level   \n",
              " 5   marital-status  Feature  Categorical            Other   \n",
              " 6       occupation  Feature  Categorical            Other   \n",
              " 7     relationship  Feature  Categorical            Other   \n",
              " 8             race  Feature  Categorical             Race   \n",
              " 9              sex  Feature       Binary              Sex   \n",
              " 10    capital-gain  Feature      Integer             None   \n",
              " 11    capital-loss  Feature      Integer             None   \n",
              " 12  hours-per-week  Feature      Integer             None   \n",
              " 13  native-country  Feature  Categorical            Other   \n",
              " 14          income   Target       Binary           Income   \n",
              " \n",
              "                                           description units missing_values  \n",
              " 0                                                 N/A  None             no  \n",
              " 1   Private, Self-emp-not-inc, Self-emp-inc, Feder...  None            yes  \n",
              " 2                                                None  None             no  \n",
              " 3    Bachelors, Some-college, 11th, HS-grad, Prof-...  None             no  \n",
              " 4                                                None  None             no  \n",
              " 5   Married-civ-spouse, Divorced, Never-married, S...  None             no  \n",
              " 6   Tech-support, Craft-repair, Other-service, Sal...  None            yes  \n",
              " 7   Wife, Own-child, Husband, Not-in-family, Other...  None             no  \n",
              " 8   White, Asian-Pac-Islander, Amer-Indian-Eskimo,...  None             no  \n",
              " 9                                       Female, Male.  None             no  \n",
              " 10                                               None  None             no  \n",
              " 11                                               None  None             no  \n",
              " 12                                               None  None             no  \n",
              " 13  United-States, Cambodia, England, Puerto-Rico,...  None            yes  \n",
              " 14                                       >50K, <=50K.  None             no  }"
            ]
          },
          "metadata": {},
          "execution_count": 3
        }
      ]
    },
    {
      "cell_type": "markdown",
      "source": [
        "Kod"
      ],
      "metadata": {
        "id": "zWEr6lZ8XYJL"
      }
    },
    {
      "cell_type": "code",
      "source": [
        "import  numpy as np\n",
        "import pandas as pd\n",
        "import matplotlib.pyplot as plt\n",
        "import seaborn as sns\n",
        "plt.style.use('ggplot')\n",
        "# load the dataset\n",
        "income = pd.read_csv(\"data.csv\")\n",
        "income.info()"
      ],
      "metadata": {
        "colab": {
          "base_uri": "https://localhost:8080/"
        },
        "id": "Z75MYrSUXY9T",
        "outputId": "ba0dd7c9-947a-41c9-df06-985fcc10d2b4"
      },
      "execution_count": 5,
      "outputs": [
        {
          "output_type": "stream",
          "name": "stdout",
          "text": [
            "<class 'pandas.core.frame.DataFrame'>\n",
            "RangeIndex: 48842 entries, 0 to 48841\n",
            "Data columns (total 15 columns):\n",
            " #   Column          Non-Null Count  Dtype \n",
            "---  ------          --------------  ----- \n",
            " 0   age             48842 non-null  int64 \n",
            " 1   workclass       47879 non-null  object\n",
            " 2   fnlwgt          48842 non-null  int64 \n",
            " 3   education       48842 non-null  object\n",
            " 4   education-num   48842 non-null  int64 \n",
            " 5   marital-status  48842 non-null  object\n",
            " 6   occupation      47876 non-null  object\n",
            " 7   relationship    48842 non-null  object\n",
            " 8   race            48842 non-null  object\n",
            " 9   sex             48842 non-null  object\n",
            " 10  capital-gain    48842 non-null  int64 \n",
            " 11  capital-loss    48842 non-null  int64 \n",
            " 12  hours-per-week  48842 non-null  int64 \n",
            " 13  native-country  48568 non-null  object\n",
            " 14  income          48842 non-null  object\n",
            "dtypes: int64(6), object(9)\n",
            "memory usage: 5.6+ MB\n"
          ]
        }
      ]
    }
  ]
}